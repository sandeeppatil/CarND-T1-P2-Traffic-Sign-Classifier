{
 "cells": [
  {
   "cell_type": "markdown",
   "metadata": {},
   "source": [
    "# Self Driving Car Engineer Nanodegree\n",
    "\n",
    "## Deep Learning\n",
    "\n",
    "## Project: Build a Traffic Sign Recognition Classifier\n",
    "\n",
    "In this notebook, a template is provided for you to implement your functionality in stages, which is required to successfully complete this project. If additional code is required that cannot be included in the notebook, be sure that the Python code is successfully imported and included in your submission if necessary. \n",
    "\n",
    "> **Note**: Once you have completed all of the code implementations, you need to finalize your work by exporting the iPython Notebook as an HTML document. Before exporting the notebook to html, all of the code cells need to have been run so that reviewers can see the final implementation and output. You can then export the notebook by using the menu above and navigating to  \\n\",\n",
    "    \"**File -> Download as -> HTML (.html)**. Include the finished document along with this notebook as your submission. \n",
    "\n",
    "In addition to implementing code, there is a writeup to complete. The writeup should be completed in a separate file, which can be either a markdown file or a pdf document. There is a [write up template](https://github.com/udacity/CarND-Traffic-Sign-Classifier-Project/blob/master/writeup_template.md) that can be used to guide the writing process. Completing the code template and writeup template will cover all of the [rubric points](https://review.udacity.com/#!/rubrics/481/view) for this project.\n",
    "\n",
    "The [rubric](https://review.udacity.com/#!/rubrics/481/view) contains \"Stand Out Suggestions\" for enhancing the project beyond the minimum requirements. The stand out suggestions are optional. If you decide to pursue the \"stand out suggestions\", you can include the code in this Ipython notebook and also discuss the results in the writeup file.\n",
    "\n",
    "\n",
    ">**Note:** Code and Markdown cells can be executed using the **Shift + Enter** keyboard shortcut. In addition, Markdown cells can be edited by typically double-clicking the cell to enter edit mode."
   ]
  },
  {
   "cell_type": "markdown",
   "metadata": {},
   "source": [
    "---\n",
    "## Step 0: Load The Data"
   ]
  },
  {
   "cell_type": "code",
   "execution_count": 1,
   "metadata": {
    "collapsed": true
   },
   "outputs": [],
   "source": [
    "from skimage.color import rgb2gray\n",
    "import pickle\n",
    "import numpy as np\n",
    "import pandas as pd\n",
    "import tensorflow as tf\n",
    "from tensorflow.contrib.layers import flatten\n",
    "from sklearn.utils import shuffle\n",
    "import cv2\n",
    "import matplotlib.pyplot as plt\n",
    "#%matplotlib"
   ]
  },
  {
   "cell_type": "code",
   "execution_count": 2,
   "metadata": {
    "collapsed": true
   },
   "outputs": [],
   "source": [
    "# Load pickled data\n",
    "# TODO: Fill this in based on where you saved the training and testing data\n",
    "\n",
    "training_file = \"/home/spp3kor/workspace/udacity/term1/projects/data/traffic-signs-data/train.p\"\n",
    "validation_file=\"/home/spp3kor/workspace/udacity/term1/projects/data/traffic-signs-data/valid.p\"\n",
    "testing_file = \"/home/spp3kor/workspace/udacity/term1/projects/data/traffic-signs-data/test.p\"\n",
    "\n",
    "with open(training_file, mode='rb') as f:\n",
    "    train = pickle.load(f)\n",
    "with open(validation_file, mode='rb') as f:\n",
    "    valid = pickle.load(f)\n",
    "with open(testing_file, mode='rb') as f:\n",
    "    test = pickle.load(f)\n",
    "    \n",
    "X_train, y_train = train['features'], train['labels']\n",
    "X_valid, y_valid = valid['features'], valid['labels']\n",
    "X_test, y_test = test['features'], test['labels']"
   ]
  },
  {
   "cell_type": "markdown",
   "metadata": {},
   "source": [
    "---\n",
    "\n",
    "## Step 1: Dataset Summary & Exploration\n",
    "\n",
    "The pickled data is a dictionary with 4 key/value pairs:\n",
    "\n",
    "- `'features'` is a 4D array containing raw pixel data of the traffic sign images, (num examples, width, height, channels).\n",
    "- `'labels'` is a 1D array containing the label/class id of the traffic sign. The file `signnames.csv` contains id -> name mappings for each id.\n",
    "- `'sizes'` is a list containing tuples, (width, height) representing the original width and height the image.\n",
    "- `'coords'` is a list containing tuples, (x1, y1, x2, y2) representing coordinates of a bounding box around the sign in the image. **THESE COORDINATES ASSUME THE ORIGINAL IMAGE. THE PICKLED DATA CONTAINS RESIZED VERSIONS (32 by 32) OF THESE IMAGES**\n",
    "\n",
    "Complete the basic data summary below. Use python, numpy and/or pandas methods to calculate the data summary rather than hard coding the results. For example, the [pandas shape method](http://pandas.pydata.org/pandas-docs/stable/generated/pandas.DataFrame.shape.html) might be useful for calculating some of the summary results. "
   ]
  },
  {
   "cell_type": "markdown",
   "metadata": {},
   "source": [
    "### Provide a Basic Summary of the Data Set Using Python, Numpy and/or Pandas"
   ]
  },
  {
   "cell_type": "code",
   "execution_count": 3,
   "metadata": {},
   "outputs": [
    {
     "name": "stdout",
     "output_type": "stream",
     "text": [
      "Number of training examples = 34799\n",
      "Number of testing examples = 12630\n",
      "Number of validation examples = 4410\n",
      "Image data shape = (32, 32, 3)\n",
      "Number of classes = 43\n"
     ]
    },
    {
     "name": "stderr",
     "output_type": "stream",
     "text": [
      "/home/spp3kor/anaconda3/envs/nn/lib/python3.6/site-packages/matplotlib/figure.py:2267: UserWarning: This figure includes Axes that are not compatible with tight_layout, so results might be incorrect.\n",
      "  warnings.warn(\"This figure includes Axes that are not compatible \"\n"
     ]
    },
    {
     "data": {
      "image/png": "iVBORw0KGgoAAAANSUhEUgAAAagAAAEYCAYAAAAJeGK1AAAABHNCSVQICAgIfAhkiAAAAAlwSFlz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\nSUVORK5CYII=\n",
      "text/plain": [
       "<Figure size 432x288 with 3 Axes>"
      ]
     },
     "metadata": {},
     "output_type": "display_data"
    }
   ],
   "source": [
    "### Replace each question mark with the appropriate value. \n",
    "### Use python, pandas or numpy methods rather than hard coding the results\n",
    "# TODO: Number of training examples\n",
    "%matplotlib inline\n",
    "n_train = len(X_train)\n",
    "\n",
    "# TODO: Number of validation examples\n",
    "n_validation = len(X_valid)\n",
    "\n",
    "# TODO: Number of testing examples.\n",
    "n_test = len(X_test)\n",
    "\n",
    "# TODO: What's the shape of an traffic sign image?\n",
    "image_shape = X_train[0].shape\n",
    "\n",
    "# TODO: How many unique classes/labels there are in the dataset.\n",
    "n_classes = len(np.unique(y_train))\n",
    "\n",
    "print(\"Number of training examples =\", n_train)\n",
    "print(\"Number of testing examples =\", n_test)\n",
    "print(\"Number of validation examples =\", n_validation)\n",
    "print(\"Image data shape =\", image_shape)\n",
    "print(\"Number of classes =\", n_classes)\n",
    "\n",
    "# Visualizations will be shown in the notebook.\n",
    "\n",
    "fig, axes = plt.subplots(nrows=3, ncols=1)\n",
    "ax0, ax1, ax2 = axes.flatten()\n",
    "\n",
    "ax0.hist(y_train, len(set(y_train)))\n",
    "ax0.set_title('Train Datasets')\n",
    "\n",
    "ax1.hist(y_test, len(set(y_test)))\n",
    "ax1.set_title('Test Datasets')\n",
    "\n",
    "ax2.hist(y_valid, len(set(y_valid)))\n",
    "ax2.set_title('Valid Datasets')\n",
    "\n",
    "fig.set_tight_layout(10)"
   ]
  },
  {
   "cell_type": "markdown",
   "metadata": {},
   "source": [
    "### Include an exploratory visualization of the dataset"
   ]
  },
  {
   "cell_type": "markdown",
   "metadata": {},
   "source": [
    "Visualize the German Traffic Signs Dataset using the pickled file(s). This is open ended, suggestions include: plotting traffic sign images, plotting the count of each sign, etc. \n",
    "\n",
    "The [Matplotlib](http://matplotlib.org/) [examples](http://matplotlib.org/examples/index.html) and [gallery](http://matplotlib.org/gallery.html) pages are a great resource for doing visualizations in Python.\n",
    "\n",
    "**NOTE:** It's recommended you start with something simple first. If you wish to do more, come back to it after you've completed the rest of the sections. It can be interesting to look at the distribution of classes in the training, validation and test set. Is the distribution the same? Are there more examples of some classes than others?"
   ]
  },
  {
   "cell_type": "code",
   "execution_count": 4,
   "metadata": {},
   "outputs": [
    {
     "name": "stderr",
     "output_type": "stream",
     "text": [
      "/home/spp3kor/anaconda3/envs/nn/lib/python3.6/site-packages/matplotlib/figure.py:2267: UserWarning: This figure includes Axes that are not compatible with tight_layout, so results might be incorrect.\n",
      "  warnings.warn(\"This figure includes Axes that are not compatible \"\n"
     ]
    },
    {
     "data": {
      "image/png": "iVBORw0KGgoAAAANSUhEUgAACPgAAAj4CAYAAABI/YQpAAAABHNCSVQICAgIfAhkiAAAAAlwSFlz\nAAALEgAACxIB0t1+/AAAADl0RVh0U29mdHdhcmUAbWF0cGxvdGxpYiB2ZXJzaW9uIDIuMi4yLCBo\ndHRwOi8vbWF0cGxvdGxpYi5vcmcvhp/UCwAAIABJREFUeJzs3XmY5Ndd3/vPqaX3bXr2VaPRaBlJ\n1m7J+wY2eCc2OJglBpKYJA/huQnEyeVJbohvyCUhBJyQkNgBZEC2IcbGBgvbsrGQLHmRZO0abaMZ\nzT7T0z29d9d67h/VMq05n9OaGi3T6nm/nsePPZ/69q9O/ar8+9Y59atfhRijAAAAAAAAAAAAAAAA\nACxPhbM9AAAAAAAAAAAAAAAAAAB5nOADAAAAAAAAAAAAAAAALGOc4AMAAAAAAAAAAAAAAAAsY5zg\nAwAAAAAAAAAAAAAAACxjnOADAAAAAAAAAAAAAAAALGOc4AMAAAAAAAAAAAAAAAAsY5zgA7wAQgi3\nhhD+Qea2Xw0h/PHC/94WQpgOIRTP8H6mQwg72vybT4cQfuRM7u+U7bwphHDw+W4ns+3v76PM7d8N\nIVz2Ytw3AOClQa983tumVwLACneO9MqfCSF88/luJ7PtG0MI/z5zW2cI4dEQwroX474BAC++c6RP\nMqcEAJwxeuXz3ja9Ei8LnOCDl7UQwutCCHeGECZCCGMhhDtCCK882+PKiTHujzH2xRgbZ/j3fTHG\np6SlFy+fEUK4QtKVkr6w8O93hhC+GUIYDyEcDSF8IoTQv6i+M4Tw+yGEyYXb//mZjPN0hRC+GkJ4\n22mU/mdJH30xxwIAKxW9su1e+eYQwoMLvXI0hPD5EMLmRfX0SgBYYeiVbffKN4UQmguLus/850OL\n6ocX+udMCOHpEMJPnMk4T1cI4fEQwkVL1cQYK5J+X9K/fDHHAgArEX2yvT65kK0NIXxqYV55MoRw\n06LbmFMCwApDr2x7Tvkrp8wn5xbmmGsWbqdXAkvgBB+8bIUQBiT9paT/JmlY0mZJ/05S5WyOa5n5\neUk3xRjjwr8HJf17SZsk7ZK0RdJvLKr/VUkXSjpP0pslfSSE8MMvxsBCCL2SrpX0N6dR/kVJbw4h\nbHwxxgIAKxW98rSc2isfkfRDMcYhtfrlE5J+d1H9r4peCQArBr3ytJzaKyXp8MKi7jP/+eSi2/67\npKqk9ZJ+UtLvvljfcgwhXCCpEGN8/DTKPyXpQyGEzhdjLACwEtEnT4vrk5+TdFSteeM6tT4QfMav\nijklAKwY9MrT8qxeGWP8D4vnk5L+o6RbY4wnFup/VfRKIIsTfPBydpEkxRg/HWNsxBjnYoxfjTE+\nIH3/0t93hBD+28JZs4+GEH7gmT8OIQyGEH4vhHAkhHAohPDvw6LL0YUQfi6EsHvhWxZfCSGct+i2\nty5sbyKE8DuSwukMOISwPYQQQwilhX/funC/dy6cpfoXIYTVIYSbFs5MvSuEsH3R38cQws4QwofV\nWij9yDN/l7nLt2tRU4oxfirG+OUY42yM8aSkT0h67aL6vyfp/40xnowx7l64/Wcyj+UXQwiPhBC2\nLHyD
